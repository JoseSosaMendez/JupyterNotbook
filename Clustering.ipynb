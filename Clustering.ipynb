{
 "cells": [
  {
   "cell_type": "markdown",
   "metadata": {},
   "source": [
    "Hola perro `JAJAJAJAJAJAJA`"
   ]
  },
  {
   "cell_type": "code",
   "execution_count": 129,
   "metadata": {},
   "outputs": [
    {
     "name": "stdout",
     "output_type": "stream",
     "text": [
      "Hola mundo\n",
      "X vale  0\n",
      "X vale  2\n",
      "X vale  4\n",
      "X vale  6\n",
      "X vale  8\n",
      "te mamaste python\n",
      "8\n",
      "X vale  8\n",
      "me trabe\n",
      "[[(1, 2, 3)], [(1, 2, 3)]]\n",
      "me trabe\n",
      "842302\n",
      "   Unnamed: 0 Unnamed: 1  Unnamed: 2  Unnamed: 3  Unnamed: 4  Unnamed: 5  \\\n",
      "0      842302          M       17.99       10.38       122.8      1001.0   \n",
      "\n",
      "   Unnamed: 6  Unnamed: 7  Unnamed: 8  Unnamed: 9  ...  Unnamed: 22  \\\n",
      "0      0.1184      0.2776      0.3001      0.1471  ...        25.38   \n",
      "\n",
      "   Unnamed: 23  Unnamed: 24  Unnamed: 25  Unnamed: 26  Unnamed: 27  \\\n",
      "0        17.33        184.6       2019.0       0.1622       0.6656   \n",
      "\n",
      "   Unnamed: 28  Unnamed: 29  Unnamed: 30  Unnamed: 31  \n",
      "0       0.7119       0.2654       0.4601       0.1189  \n",
      "\n",
      "[1 rows x 32 columns]\n",
      "842302\n"
     ]
    }
   ],
   "source": [
    "import pandas as pd\n",
    "print(\"Hola mundo\")\n",
    "for x in range(0,10,2):\n",
    "    print(\"X vale \",x)\n",
    "else:\n",
    "    print(\"te mamaste python\")\n",
    "print(x)\n",
    "if x==8:\n",
    "    print(\"X vale \",x)\n",
    "while x != 0 :\n",
    "    print(\"me trabe\")\n",
    "    x=0\n",
    "y = 1, 2, 3\n",
    "\n",
    "list = [[y],[y]]\n",
    "print(list)\n",
    "\n",
    "\n",
    "df = pd.read_excel('wdbc.xlsx')\n",
    "(x,y) = df.shape ## regresa la dimensionalidad.\n",
    "print(\"me trabe\")\n",
    "x = df.iloc[0, 0]\n",
    "print(x)\n",
    "\n",
    "print(df[:1])\n",
    "\n",
    "y = x*1\n",
    "print(y)"
   ]
  },
  {
   "cell_type": "code",
   "execution_count": null,
   "metadata": {},
   "outputs": [],
   "source": []
  }
 ],
 "metadata": {
  "kernelspec": {
   "display_name": "Python 3",
   "language": "python",
   "name": "python3"
  },
  "language_info": {
   "codemirror_mode": {
    "name": "ipython",
    "version": 3
   },
   "file_extension": ".py",
   "mimetype": "text/x-python",
   "name": "python",
   "nbconvert_exporter": "python",
   "pygments_lexer": "ipython3",
   "version": "3.8.5"
  }
 },
 "nbformat": 4,
 "nbformat_minor": 4
}
